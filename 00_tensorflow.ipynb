{
  "nbformat": 4,
  "nbformat_minor": 0,
  "metadata": {
    "colab": {
      "provenance": [],
      "authorship_tag": "ABX9TyNunaNjRL/i7U3cmG2sR7Av",
      "include_colab_link": true
    },
    "kernelspec": {
      "name": "python3",
      "display_name": "Python 3"
    },
    "language_info": {
      "name": "python"
    }
  },
  "cells": [
    {
      "cell_type": "markdown",
      "metadata": {
        "id": "view-in-github",
        "colab_type": "text"
      },
      "source": [
        "<a href=\"https://colab.research.google.com/github/rawatinder1/learning_tensorFlow/blob/main/00_tensorflow.ipynb\" target=\"_parent\"><img src=\"https://colab.research.google.com/assets/colab-badge.svg\" alt=\"Open In Colab\"/></a>"
      ]
    },
    {
      "cell_type": "markdown",
      "source": [
        "## In this noteBook , we are going to cover some of the most fundamental concepts of tensors using TensorFlow."
      ],
      "metadata": {
        "id": "U-lbWM8TWyHf"
      }
    },
    {
      "cell_type": "markdown",
      "source": [
        "## Introduction to Tensors"
      ],
      "metadata": {
        "id": "pbWiEHH0XSmI"
      }
    },
    {
      "cell_type": "code",
      "source": [
        "# import TensorFlow\n",
        "import tensorflow as tf\n",
        "print(tf.__version__);"
      ],
      "metadata": {
        "colab": {
          "base_uri": "https://localhost:8080/"
        },
        "id": "AJS70CpxXoOs",
        "outputId": "9232f564-c31a-40e6-bb73-11ad22bd8360"
      },
      "execution_count": null,
      "outputs": [
        {
          "output_type": "stream",
          "name": "stdout",
          "text": [
            "2.19.0\n"
          ]
        }
      ]
    },
    {
      "cell_type": "code",
      "source": [
        "# Create tensors with tf.constant()\n",
        "scalar = tf.constant(7)\n",
        "scalar"
      ],
      "metadata": {
        "colab": {
          "base_uri": "https://localhost:8080/"
        },
        "id": "NxRpcoi_X1Os",
        "outputId": "afa26d96-3a9f-4509-a5eb-bd31d23b2db9"
      },
      "execution_count": null,
      "outputs": [
        {
          "output_type": "execute_result",
          "data": {
            "text/plain": [
              "<tf.Tensor: shape=(), dtype=int32, numpy=7>"
            ]
          },
          "metadata": {},
          "execution_count": 2
        }
      ]
    },
    {
      "cell_type": "code",
      "source": [
        "import tensorflow as tf\n",
        "\n",
        "# 🔢 1. Scalars (0D tensor)\n",
        "scalar = tf.constant(7)\n",
        "print(\"Scalar:\")\n",
        "print(scalar)\n",
        "print(\"Shape:\", scalar.shape, \"Rank:\", tf.rank(scalar).numpy())\n",
        "print(\"-\" * 40)\n",
        "\n",
        "# 📏 2. Vector (1D tensor)\n",
        "vector = tf.constant([1, 2, 3])\n",
        "print(\"Vector:\")\n",
        "print(vector)\n",
        "print(\"Shape:\", vector.shape, \"Rank:\", tf.rank(vector).numpy())\n",
        "print(\"-\" * 40)\n",
        "\n",
        "# 🧮 3. Matrix (2D tensor)\n",
        "matrix = tf.constant([[1, 2, 3],\n",
        "                      [4, 5, 6]])\n",
        "print(\"Matrix:\")\n",
        "print(matrix)\n",
        "print(\"Shape:\", matrix.shape, \"Rank:\", tf.rank(matrix).numpy())\n",
        "print(\"-\" * 40)\n",
        "\n",
        "# 📦 4. 3D Tensor\n",
        "tensor3d = tf.constant([[[1, 2], [3, 4]],\n",
        "                        [[5, 6], [7, 8]]])\n",
        "print(\"3D Tensor:\")\n",
        "print(tensor3d)\n",
        "print(\"Shape:\", tensor3d.shape, \"Rank:\", tf.rank(tensor3d).numpy())\n",
        "print(\"-\" * 40)\n",
        "\n",
        "# 📸 5. Example: image-like 4D tensor (batch, height, width, channels)\n",
        "image_tensor = tf.random.uniform(shape=(4, 28, 28, 3))  # 4 RGB images, 28x28 each\n",
        "print(\"4D Tensor (like images):\")\n",
        "print(image_tensor)\n",
        "print(\"Shape:\", image_tensor.shape, \"Rank:\", tf.rank(image_tensor).numpy())\n",
        "print(\"-\" * 40)\n",
        "\n",
        "# 🧠 6. Tensor properties\n",
        "print(\"Data type:\", image_tensor.dtype)\n",
        "print(\"Number of elements:\", tf.size(image_tensor).numpy())\n",
        "\n",
        "# 📚 Summary\n",
        "print(\"\"\"\n",
        "✅ Tensors are:\n",
        "- Multi-dimensional arrays (scalars, vectors, matrices, higher-D)\n",
        "- Defined by rank (number of dimensions) and shape\n",
        "- Backbone of deep learning data & model weights\n",
        "- GPU/TPU-compatible and support automatic differentiation\n",
        "\"\"\")\n"
      ],
      "metadata": {
        "id": "Gplf1Qq6iO-P"
      },
      "execution_count": null,
      "outputs": []
    },
    {
      "cell_type": "code",
      "source": [
        "# creating a multidimensional tensor;\n",
        "tensor = tf.constant(7,shape=(3,2,3,3,2),\n",
        "dtype=tf.float32)\n",
        "\n",
        "print(tensor.ndim);\n",
        "tensor"
      ],
      "metadata": {
        "colab": {
          "base_uri": "https://localhost:8080/"
        },
        "id": "9HVXNGuLfMQ-",
        "outputId": "36c3cfef-5393-46f7-c9b0-252b124bbc50"
      },
      "execution_count": null,
      "outputs": [
        {
          "output_type": "stream",
          "name": "stdout",
          "text": [
            "5\n"
          ]
        },
        {
          "output_type": "execute_result",
          "data": {
            "text/plain": [
              "<tf.Tensor: shape=(3, 2, 3, 3, 2), dtype=float32, numpy=\n",
              "array([[[[[7., 7.],\n",
              "          [7., 7.],\n",
              "          [7., 7.]],\n",
              "\n",
              "         [[7., 7.],\n",
              "          [7., 7.],\n",
              "          [7., 7.]],\n",
              "\n",
              "         [[7., 7.],\n",
              "          [7., 7.],\n",
              "          [7., 7.]]],\n",
              "\n",
              "\n",
              "        [[[7., 7.],\n",
              "          [7., 7.],\n",
              "          [7., 7.]],\n",
              "\n",
              "         [[7., 7.],\n",
              "          [7., 7.],\n",
              "          [7., 7.]],\n",
              "\n",
              "         [[7., 7.],\n",
              "          [7., 7.],\n",
              "          [7., 7.]]]],\n",
              "\n",
              "\n",
              "\n",
              "       [[[[7., 7.],\n",
              "          [7., 7.],\n",
              "          [7., 7.]],\n",
              "\n",
              "         [[7., 7.],\n",
              "          [7., 7.],\n",
              "          [7., 7.]],\n",
              "\n",
              "         [[7., 7.],\n",
              "          [7., 7.],\n",
              "          [7., 7.]]],\n",
              "\n",
              "\n",
              "        [[[7., 7.],\n",
              "          [7., 7.],\n",
              "          [7., 7.]],\n",
              "\n",
              "         [[7., 7.],\n",
              "          [7., 7.],\n",
              "          [7., 7.]],\n",
              "\n",
              "         [[7., 7.],\n",
              "          [7., 7.],\n",
              "          [7., 7.]]]],\n",
              "\n",
              "\n",
              "\n",
              "       [[[[7., 7.],\n",
              "          [7., 7.],\n",
              "          [7., 7.]],\n",
              "\n",
              "         [[7., 7.],\n",
              "          [7., 7.],\n",
              "          [7., 7.]],\n",
              "\n",
              "         [[7., 7.],\n",
              "          [7., 7.],\n",
              "          [7., 7.]]],\n",
              "\n",
              "\n",
              "        [[[7., 7.],\n",
              "          [7., 7.],\n",
              "          [7., 7.]],\n",
              "\n",
              "         [[7., 7.],\n",
              "          [7., 7.],\n",
              "          [7., 7.]],\n",
              "\n",
              "         [[7., 7.],\n",
              "          [7., 7.],\n",
              "          [7., 7.]]]]], dtype=float32)>"
            ]
          },
          "metadata": {},
          "execution_count": 14
        }
      ]
    },
    {
      "cell_type": "code",
      "source": [
        "tensor1=tf.constant([6,7])\n",
        "tensor2=tf.constant([9,8])\n",
        "result=tensor1*tensor2;\n",
        "print(result)"
      ],
      "metadata": {
        "colab": {
          "base_uri": "https://localhost:8080/"
        },
        "id": "-TlQZfy4kDmT",
        "outputId": "7baa23a5-c337-42ea-fc90-6e40aa35d3ec"
      },
      "execution_count": null,
      "outputs": [
        {
          "output_type": "stream",
          "name": "stdout",
          "text": [
            "tf.Tensor([54 56], shape=(2,), dtype=int32)\n"
          ]
        }
      ]
    },
    {
      "cell_type": "markdown",
      "source": [
        "## creating tensors with `tf.variable()`"
      ],
      "metadata": {
        "id": "vcSZDU3zn5pj"
      }
    },
    {
      "cell_type": "code",
      "source": [
        "# tf.variable is the mutable counterpart of tf.constant..\n",
        "#  tf.Variable(\n",
        "#     initial_value,\n",
        "#     trainable=True,\n",
        "#     dtype=None,\n",
        "#     shape=None,\n",
        "#     name=None\n",
        "# )\n",
        "# Key parameters:\n",
        "\n",
        "# initial_value – The starting value (can be a number, list, NumPy array, or another tensor).\n",
        "\n",
        "# trainable (default=True) – If True, TensorFlow will update it during training (e.g., by gradient descent).\n",
        "\n",
        "# dtype – Data type (inferred if not given).\n",
        "\n",
        "# shape – Shape of the variable (inferred if not given).\n",
        "\n",
        "# name – Optional name.\n",
        "\n",
        "mat = tf.Variable(tf.ones((2, 3)) * 7, dtype=tf.int32)\n",
        "mat[1,2].assign(52)\n",
        "mat\n"
      ],
      "metadata": {
        "colab": {
          "base_uri": "https://localhost:8080/"
        },
        "id": "LeDgYkkWoDu8",
        "outputId": "da0a6cd1-fd28-4ef8-e057-2dd8052d0919"
      },
      "execution_count": null,
      "outputs": [
        {
          "output_type": "execute_result",
          "data": {
            "text/plain": [
              "<tf.Variable 'Variable:0' shape=(2, 3) dtype=float32, numpy=\n",
              "array([[ 7.,  7.,  7.],\n",
              "       [ 7.,  7., 52.]], dtype=float32)>"
            ]
          },
          "metadata": {},
          "execution_count": 40
        }
      ]
    },
    {
      "cell_type": "code",
      "source": [
        "import tensorflow as tf\n",
        "changeable_tensor=tf.Variable(trainable=True,dtype=tf.float32,initial_value=tf.ones((2,3))*7)\n",
        "changeable_tensor"
      ],
      "metadata": {
        "colab": {
          "base_uri": "https://localhost:8080/"
        },
        "id": "iiIGk0-vtfC3",
        "outputId": "07230eb3-9f59-4fb0-ead3-4b1d1b74e6f4"
      },
      "execution_count": null,
      "outputs": [
        {
          "output_type": "execute_result",
          "data": {
            "text/plain": [
              "<tf.Variable 'Variable:0' shape=(2, 3) dtype=float32, numpy=\n",
              "array([[7., 7., 7.],\n",
              "       [7., 7., 7.]], dtype=float32)>"
            ]
          },
          "metadata": {},
          "execution_count": 4
        }
      ]
    },
    {
      "cell_type": "code",
      "source": [
        "g = tf.random.Generator.from_seed(42)\n",
        "\n",
        "random_variable=g.truncated_normal(shape=(3,2),mean=5.0,stddev=1.0)\n",
        "trainable_variable=tf.Variable(random_variable,trainable=True)\n",
        "print(trainable_variable)"
      ],
      "metadata": {
        "colab": {
          "base_uri": "https://localhost:8080/"
        },
        "id": "7oJmJbXHenRX",
        "outputId": "c65c9a62-74cd-4426-b25b-a503b5780758"
      },
      "execution_count": null,
      "outputs": [
        {
          "output_type": "stream",
          "name": "stdout",
          "text": [
            "<tf.Variable 'Variable:0' shape=(3, 2) dtype=float32, numpy=\n",
            "array([[4.2434196, 4.9314528],\n",
            "       [5.07595  , 3.7426157],\n",
            "       [5.7093353, 3.8071513]], dtype=float32)>\n"
          ]
        }
      ]
    },
    {
      "cell_type": "code",
      "source": [
        "## they are different ways you can create random tensors some of them are:->\n",
        "# using uniform distribution this will randomly generate numbers using a unifrm distribution or rectagular distribution the probability of selecting any number between a range [a,b] is fixed.\n",
        "random_tensor=tf.random.Generator.from_seed(42); # set seed for reproducibility.\n",
        "trainable_tensor=random_tensor.uniform(shape=(3,2),minval=0,maxval=100,dtype=tf.int32) # generate only int data type values for tensor;\n",
        "print(trainable_tensor);\n",
        "# using normal distributio or gaussian where probability is maximum around mean and decays exponentially in every dimensions that moves away from that mean value.\n",
        "trainable_tensor2=random_tensor.normal(shape=(3,2),mean=5.0,stddev=1.0)\n",
        "print(trainable_tensor2);\n",
        "# using trancated normal thats same as gaussian but outputs are truncated if theu are away from mean by +- 2*stddev.\n",
        "trainable_tensor3=random_tensor.truncated_normal(shape=(3,2),mean=5.0,stddev=1.0)\n",
        "print(trainable_tensor3);\n"
      ],
      "metadata": {
        "colab": {
          "base_uri": "https://localhost:8080/"
        },
        "id": "xc4aIsGagKfa",
        "outputId": "83487ea2-013a-4496-8d82-19a4046943dd"
      },
      "execution_count": null,
      "outputs": [
        {
          "output_type": "stream",
          "name": "stdout",
          "text": [
            "tf.Tensor(\n",
            "[[ 3 97]\n",
            " [26 98]\n",
            " [26 81]], shape=(3, 2), dtype=int32)\n",
            "tf.Tensor(\n",
            "[[5.1752267 5.7110553]\n",
            " [5.5488243 5.14896  ]\n",
            " [4.45242   5.6163435]], shape=(3, 2), dtype=float32)\n",
            "tf.Tensor(\n",
            "[[6.286623  4.285244 ]\n",
            " [4.898045  5.3831787]\n",
            " [5.3264775 5.17025  ]], shape=(3, 2), dtype=float32)\n"
          ]
        }
      ]
    }
  ]
}
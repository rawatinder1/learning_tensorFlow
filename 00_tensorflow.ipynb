{
  "nbformat": 4,
  "nbformat_minor": 0,
  "metadata": {
    "colab": {
      "provenance": [],
      "authorship_tag": "ABX9TyMOhLeK26PkqyASZ5bYiu9x",
      "include_colab_link": true
    },
    "kernelspec": {
      "name": "python3",
      "display_name": "Python 3"
    },
    "language_info": {
      "name": "python"
    }
  },
  "cells": [
    {
      "cell_type": "markdown",
      "metadata": {
        "id": "view-in-github",
        "colab_type": "text"
      },
      "source": [
        "<a href=\"https://colab.research.google.com/github/rawatinder1/learning_tensorFlow/blob/main/00_tensorflow.ipynb\" target=\"_parent\"><img src=\"https://colab.research.google.com/assets/colab-badge.svg\" alt=\"Open In Colab\"/></a>"
      ]
    },
    {
      "cell_type": "markdown",
      "source": [
        "## In this noteBook , we are going to cover some of the most fundamental concepts of tensors using TensorFlow."
      ],
      "metadata": {
        "id": "U-lbWM8TWyHf"
      }
    },
    {
      "cell_type": "markdown",
      "source": [
        "## Introduction to Tensors"
      ],
      "metadata": {
        "id": "pbWiEHH0XSmI"
      }
    },
    {
      "cell_type": "code",
      "source": [
        "# import TensorFlow\n",
        "import tensorflow as tf\n",
        "print(tf.__version__);"
      ],
      "metadata": {
        "id": "AJS70CpxXoOs",
        "colab": {
          "base_uri": "https://localhost:8080/"
        },
        "outputId": "9dd9649c-3b25-4d82-ac13-bb0d0df47bdb"
      },
      "execution_count": 45,
      "outputs": [
        {
          "output_type": "stream",
          "name": "stdout",
          "text": [
            "2.19.0\n"
          ]
        }
      ]
    },
    {
      "cell_type": "code",
      "source": [
        "# Create tensors with tf.constant()\n",
        "scalar = tf.constant(7)\n",
        "scalar"
      ],
      "metadata": {
        "id": "NxRpcoi_X1Os",
        "colab": {
          "base_uri": "https://localhost:8080/"
        },
        "outputId": "e8be9136-614e-4d3b-b836-63691b841f62"
      },
      "execution_count": 46,
      "outputs": [
        {
          "output_type": "execute_result",
          "data": {
            "text/plain": [
              "<tf.Tensor: shape=(), dtype=int32, numpy=7>"
            ]
          },
          "metadata": {},
          "execution_count": 46
        }
      ]
    },
    {
      "cell_type": "code",
      "source": [
        "import tensorflow as tf\n",
        "\n",
        "#  1. Scalars (0D tensor)\n",
        "scalar = tf.constant(7)\n",
        "print(\"Scalar:\")\n",
        "print(scalar)\n",
        "print(\"Shape:\", scalar.shape, \"Rank:\", tf.rank(scalar).numpy())\n",
        "print(\"-\" * 40)\n",
        "\n",
        "#  2. Vector (1D tensor)\n",
        "vector = tf.constant([1, 2, 3])\n",
        "print(\"Vector:\")\n",
        "print(vector)\n",
        "print(\"Shape:\", vector.shape, \"Rank:\", tf.rank(vector).numpy())\n",
        "print(\"-\" * 40)\n",
        "\n",
        "#  3. Matrix (2D tensor)\n",
        "matrix = tf.constant([[1, 2, 3],\n",
        "                      [4, 5, 6]])\n",
        "print(\"Matrix:\")\n",
        "print(matrix)\n",
        "print(\"Shape:\", matrix.shape, \"Rank:\", tf.rank(matrix).numpy())\n",
        "print(\"-\" * 40)\n",
        "\n",
        "#  4. 3D Tensor\n",
        "tensor3d = tf.constant([[[1, 2], [3, 4]],\n",
        "                        [[5, 6], [7, 8]]])\n",
        "print(\"3D Tensor:\")\n",
        "print(tensor3d)\n",
        "print(\"Shape:\", tensor3d.shape, \"Rank:\", tf.rank(tensor3d).numpy())\n",
        "print(\"-\" * 40)\n",
        "\n",
        "#  5. Example: image-like 4D tensor (batch, height, width, channels)\n",
        "image_tensor = tf.random.uniform(shape=(4, 28, 28, 3))  # 4 RGB images, 28x28 each\n",
        "print(\"4D Tensor (like images):\")\n",
        "print(image_tensor)\n",
        "print(\"Shape:\", image_tensor.shape, \"Rank:\", tf.rank(image_tensor).numpy())\n",
        "print(\"-\" * 40)\n",
        "\n",
        "#  6. Tensor properties\n",
        "print(\"Data type:\", image_tensor.dtype)\n",
        "print(\"Number of elements:\", tf.size(image_tensor).numpy())\n",
        "\n",
        "#  Summary\n",
        "print(\"\"\"\n",
        " Tensors are:\n",
        "- Multi-dimensional arrays (scalars, vectors, matrices, higher-D)\n",
        "- Defined by rank (number of dimensions) and shape\n",
        "- Backbone of deep learning data & model weights\n",
        "- GPU/TPU-compatible and support automatic differentiation\n",
        "\"\"\")\n"
      ],
      "metadata": {
        "id": "Gplf1Qq6iO-P",
        "colab": {
          "base_uri": "https://localhost:8080/"
        },
        "outputId": "37e7bb9d-23cc-4df1-eb5f-5c3e6f5f3b1e"
      },
      "execution_count": 47,
      "outputs": [
        {
          "output_type": "stream",
          "name": "stdout",
          "text": [
            "Scalar:\n",
            "tf.Tensor(7, shape=(), dtype=int32)\n",
            "Shape: () Rank: 0\n",
            "----------------------------------------\n",
            "Vector:\n",
            "tf.Tensor([1 2 3], shape=(3,), dtype=int32)\n",
            "Shape: (3,) Rank: 1\n",
            "----------------------------------------\n",
            "Matrix:\n",
            "tf.Tensor(\n",
            "[[1 2 3]\n",
            " [4 5 6]], shape=(2, 3), dtype=int32)\n",
            "Shape: (2, 3) Rank: 2\n",
            "----------------------------------------\n",
            "3D Tensor:\n",
            "tf.Tensor(\n",
            "[[[1 2]\n",
            "  [3 4]]\n",
            "\n",
            " [[5 6]\n",
            "  [7 8]]], shape=(2, 2, 2), dtype=int32)\n",
            "Shape: (2, 2, 2) Rank: 3\n",
            "----------------------------------------\n",
            "4D Tensor (like images):\n",
            "tf.Tensor(\n",
            "[[[[0.6573286  0.31464887 0.33558106]\n",
            "   [0.94525504 0.4729967  0.56287396]\n",
            "   [0.15738451 0.7946689  0.28398275]\n",
            "   ...\n",
            "   [0.30053222 0.6860651  0.21441305]\n",
            "   [0.6408491  0.09579945 0.3422767 ]\n",
            "   [0.954232   0.47955942 0.18051672]]\n",
            "\n",
            "  [[0.80188    0.20702016 0.5731703 ]\n",
            "   [0.899935   0.875059   0.80520034]\n",
            "   [0.41509736 0.76253045 0.77319276]\n",
            "   ...\n",
            "   [0.81169    0.4295876  0.36513698]\n",
            "   [0.15524924 0.95670533 0.39392912]\n",
            "   [0.13899457 0.4622749  0.48184395]]\n",
            "\n",
            "  [[0.07010388 0.7705604  0.40014744]\n",
            "   [0.27344775 0.45220172 0.725227  ]\n",
            "   [0.26835263 0.0171473  0.6187726 ]\n",
            "   ...\n",
            "   [0.85562253 0.8618175  0.05699027]\n",
            "   [0.55581665 0.6523069  0.659008  ]\n",
            "   [0.4898193  0.3114171  0.5112431 ]]\n",
            "\n",
            "  ...\n",
            "\n",
            "  [[0.56107676 0.11681008 0.3534305 ]\n",
            "   [0.59035254 0.07778788 0.00898504]\n",
            "   [0.5156915  0.8506324  0.07803619]\n",
            "   ...\n",
            "   [0.38880146 0.2637496  0.09261274]\n",
            "   [0.15320969 0.95848393 0.5737649 ]\n",
            "   [0.5667498  0.564916   0.3643644 ]]\n",
            "\n",
            "  [[0.7326857  0.8911617  0.9331229 ]\n",
            "   [0.05660939 0.39019763 0.2195462 ]\n",
            "   [0.48434794 0.86170936 0.443146  ]\n",
            "   ...\n",
            "   [0.74705744 0.1126076  0.3085451 ]\n",
            "   [0.8285167  0.20402527 0.8662487 ]\n",
            "   [0.4341328  0.5055752  0.6116159 ]]\n",
            "\n",
            "  [[0.7890141  0.40891087 0.04904354]\n",
            "   [0.1755681  0.20811915 0.00774384]\n",
            "   [0.5073496  0.15322399 0.31498063]\n",
            "   ...\n",
            "   [0.8309567  0.9270228  0.46053326]\n",
            "   [0.9590534  0.27231002 0.14170408]\n",
            "   [0.74714816 0.39746976 0.5780797 ]]]\n",
            "\n",
            "\n",
            " [[[0.12929523 0.5686352  0.8696343 ]\n",
            "   [0.02135062 0.03704    0.8824097 ]\n",
            "   [0.1889664  0.39012134 0.75840163]\n",
            "   ...\n",
            "   [0.47855854 0.7956017  0.00455713]\n",
            "   [0.8468765  0.58644783 0.52728236]\n",
            "   [0.95087683 0.14533794 0.07410347]]\n",
            "\n",
            "  [[0.2054801  0.47508228 0.34070098]\n",
            "   [0.17398286 0.6798657  0.7431034 ]\n",
            "   [0.83377194 0.28768182 0.9701711 ]\n",
            "   ...\n",
            "   [0.8802234  0.46798766 0.37657738]\n",
            "   [0.34801078 0.9026867  0.73885965]\n",
            "   [0.02502024 0.7276087  0.36461687]]\n",
            "\n",
            "  [[0.86943495 0.97373486 0.87345123]\n",
            "   [0.9196677  0.39266932 0.47052097]\n",
            "   [0.0369463  0.59938633 0.29507875]\n",
            "   ...\n",
            "   [0.7926043  0.6453574  0.7686951 ]\n",
            "   [0.3547678  0.2528262  0.53905475]\n",
            "   [0.44556856 0.7289213  0.9769763 ]]\n",
            "\n",
            "  ...\n",
            "\n",
            "  [[0.27638948 0.09524024 0.40357733]\n",
            "   [0.4739275  0.50309813 0.20738411]\n",
            "   [0.59331226 0.63175213 0.34270632]\n",
            "   ...\n",
            "   [0.16227508 0.59971905 0.19131124]\n",
            "   [0.6673275  0.5189122  0.35243928]\n",
            "   [0.9297291  0.42538917 0.5550133 ]]\n",
            "\n",
            "  [[0.90951    0.03444159 0.13925934]\n",
            "   [0.5861548  0.16514432 0.7243782 ]\n",
            "   [0.6035348  0.4662645  0.34282637]\n",
            "   ...\n",
            "   [0.30638993 0.07188559 0.07043922]\n",
            "   [0.8917507  0.71904874 0.63020205]\n",
            "   [0.60859835 0.462124   0.7592989 ]]\n",
            "\n",
            "  [[0.39480925 0.98089874 0.8201598 ]\n",
            "   [0.442392   0.6954484  0.5746814 ]\n",
            "   [0.21991444 0.3913089  0.9854207 ]\n",
            "   ...\n",
            "   [0.04503798 0.7821573  0.25187385]\n",
            "   [0.43539453 0.8590832  0.6325257 ]\n",
            "   [0.88035107 0.39239323 0.4381113 ]]]\n",
            "\n",
            "\n",
            " [[[0.81476617 0.03862584 0.3586254 ]\n",
            "   [0.8920641  0.5286746  0.31342804]\n",
            "   [0.9284309  0.3733256  0.5355332 ]\n",
            "   ...\n",
            "   [0.15799749 0.2882638  0.8517779 ]\n",
            "   [0.412678   0.0340184  0.75331545]\n",
            "   [0.606187   0.04371142 0.4784552 ]]\n",
            "\n",
            "  [[0.9355186  0.91209054 0.36874616]\n",
            "   [0.5241641  0.91131496 0.07985532]\n",
            "   [0.51326895 0.7667067  0.96910024]\n",
            "   ...\n",
            "   [0.7187234  0.25583947 0.4208622 ]\n",
            "   [0.11627233 0.6809436  0.47241795]\n",
            "   [0.8034767  0.05424345 0.20799649]]\n",
            "\n",
            "  [[0.3552091  0.07434297 0.22157085]\n",
            "   [0.71555364 0.57138455 0.2974342 ]\n",
            "   [0.4597274  0.46678936 0.7954823 ]\n",
            "   ...\n",
            "   [0.5239986  0.26551354 0.82834387]\n",
            "   [0.89929116 0.34046555 0.02900517]\n",
            "   [0.9364698  0.7798208  0.7499378 ]]\n",
            "\n",
            "  ...\n",
            "\n",
            "  [[0.63926613 0.3011489  0.05815077]\n",
            "   [0.8080468  0.548089   0.9783417 ]\n",
            "   [0.18803573 0.36695647 0.24471152]\n",
            "   ...\n",
            "   [0.3256656  0.442634   0.32496428]\n",
            "   [0.83356714 0.8922931  0.29974222]\n",
            "   [0.10458398 0.43575788 0.32448077]]\n",
            "\n",
            "  [[0.1164149  0.13892734 0.8306788 ]\n",
            "   [0.3105142  0.32672727 0.6371032 ]\n",
            "   [0.53405106 0.5108075  0.31211078]\n",
            "   ...\n",
            "   [0.8363433  0.29960942 0.98417616]\n",
            "   [0.6255702  0.49112558 0.29006743]\n",
            "   [0.4874208  0.235677   0.70449233]]\n",
            "\n",
            "  [[0.31691575 0.16641426 0.2934258 ]\n",
            "   [0.76671386 0.06900322 0.5413084 ]\n",
            "   [0.01675129 0.5993836  0.08670187]\n",
            "   ...\n",
            "   [0.47433305 0.10844934 0.19450223]\n",
            "   [0.15811932 0.29528224 0.78089774]\n",
            "   [0.5068674  0.6877028  0.39374566]]]\n",
            "\n",
            "\n",
            " [[[0.85817456 0.9261228  0.9979718 ]\n",
            "   [0.5600991  0.86144125 0.582147  ]\n",
            "   [0.20253754 0.5353005  0.09120309]\n",
            "   ...\n",
            "   [0.01616693 0.60774267 0.29393697]\n",
            "   [0.25895083 0.6367327  0.4844408 ]\n",
            "   [0.208426   0.16398072 0.64268863]]\n",
            "\n",
            "  [[0.34237027 0.00600624 0.6395345 ]\n",
            "   [0.25878274 0.394148   0.71199954]\n",
            "   [0.27554035 0.36312675 0.6903038 ]\n",
            "   ...\n",
            "   [0.86276543 0.56684875 0.331926  ]\n",
            "   [0.93275774 0.4655286  0.60020804]\n",
            "   [0.68783355 0.51300025 0.1435442 ]]\n",
            "\n",
            "  [[0.8445889  0.8775331  0.21833241]\n",
            "   [0.01966035 0.6612843  0.21617246]\n",
            "   [0.2922789  0.11644614 0.7708676 ]\n",
            "   ...\n",
            "   [0.7493112  0.38006806 0.58031285]\n",
            "   [0.4641366  0.5203874  0.44126832]\n",
            "   [0.36517298 0.8701581  0.59931076]]\n",
            "\n",
            "  ...\n",
            "\n",
            "  [[0.19506586 0.25345814 0.43844855]\n",
            "   [0.39415908 0.08034921 0.83230245]\n",
            "   [0.29636908 0.09326851 0.2015667 ]\n",
            "   ...\n",
            "   [0.8598546  0.16756415 0.45075607]\n",
            "   [0.57723105 0.99735045 0.27661085]\n",
            "   [0.7377049  0.61218107 0.3727386 ]]\n",
            "\n",
            "  [[0.0520767  0.9948144  0.9800099 ]\n",
            "   [0.48651814 0.06739676 0.19492841]\n",
            "   [0.9473214  0.89593256 0.05045998]\n",
            "   ...\n",
            "   [0.4672767  0.95860374 0.64788854]\n",
            "   [0.04976881 0.5498738  0.9715413 ]\n",
            "   [0.36820233 0.951416   0.26870286]]\n",
            "\n",
            "  [[0.8681241  0.00832665 0.3203181 ]\n",
            "   [0.02839994 0.9914681  0.51449466]\n",
            "   [0.24468601 0.41404963 0.9434869 ]\n",
            "   ...\n",
            "   [0.9498428  0.18512452 0.06239295]\n",
            "   [0.47028244 0.324906   0.73505306]\n",
            "   [0.46830893 0.6124215  0.6416347 ]]]], shape=(4, 28, 28, 3), dtype=float32)\n",
            "Shape: (4, 28, 28, 3) Rank: 4\n",
            "----------------------------------------\n",
            "Data type: <dtype: 'float32'>\n",
            "Number of elements: 9408\n",
            "\n",
            " Tensors are:\n",
            "- Multi-dimensional arrays (scalars, vectors, matrices, higher-D)\n",
            "- Defined by rank (number of dimensions) and shape\n",
            "- Backbone of deep learning data & model weights\n",
            "- GPU/TPU-compatible and support automatic differentiation\n",
            "\n"
          ]
        }
      ]
    },
    {
      "cell_type": "code",
      "source": [
        "# creating a multidimensional tensor;\n",
        "tensor = tf.constant(7,shape=(3,2,3,3,2),\n",
        "dtype=tf.float32)\n",
        "\n",
        "print(tensor.ndim);\n",
        "tensor"
      ],
      "metadata": {
        "id": "9HVXNGuLfMQ-",
        "colab": {
          "base_uri": "https://localhost:8080/"
        },
        "outputId": "c78e3df0-36a9-4898-c406-0f29e4d7db3c"
      },
      "execution_count": 48,
      "outputs": [
        {
          "output_type": "stream",
          "name": "stdout",
          "text": [
            "5\n"
          ]
        },
        {
          "output_type": "execute_result",
          "data": {
            "text/plain": [
              "<tf.Tensor: shape=(3, 2, 3, 3, 2), dtype=float32, numpy=\n",
              "array([[[[[7., 7.],\n",
              "          [7., 7.],\n",
              "          [7., 7.]],\n",
              "\n",
              "         [[7., 7.],\n",
              "          [7., 7.],\n",
              "          [7., 7.]],\n",
              "\n",
              "         [[7., 7.],\n",
              "          [7., 7.],\n",
              "          [7., 7.]]],\n",
              "\n",
              "\n",
              "        [[[7., 7.],\n",
              "          [7., 7.],\n",
              "          [7., 7.]],\n",
              "\n",
              "         [[7., 7.],\n",
              "          [7., 7.],\n",
              "          [7., 7.]],\n",
              "\n",
              "         [[7., 7.],\n",
              "          [7., 7.],\n",
              "          [7., 7.]]]],\n",
              "\n",
              "\n",
              "\n",
              "       [[[[7., 7.],\n",
              "          [7., 7.],\n",
              "          [7., 7.]],\n",
              "\n",
              "         [[7., 7.],\n",
              "          [7., 7.],\n",
              "          [7., 7.]],\n",
              "\n",
              "         [[7., 7.],\n",
              "          [7., 7.],\n",
              "          [7., 7.]]],\n",
              "\n",
              "\n",
              "        [[[7., 7.],\n",
              "          [7., 7.],\n",
              "          [7., 7.]],\n",
              "\n",
              "         [[7., 7.],\n",
              "          [7., 7.],\n",
              "          [7., 7.]],\n",
              "\n",
              "         [[7., 7.],\n",
              "          [7., 7.],\n",
              "          [7., 7.]]]],\n",
              "\n",
              "\n",
              "\n",
              "       [[[[7., 7.],\n",
              "          [7., 7.],\n",
              "          [7., 7.]],\n",
              "\n",
              "         [[7., 7.],\n",
              "          [7., 7.],\n",
              "          [7., 7.]],\n",
              "\n",
              "         [[7., 7.],\n",
              "          [7., 7.],\n",
              "          [7., 7.]]],\n",
              "\n",
              "\n",
              "        [[[7., 7.],\n",
              "          [7., 7.],\n",
              "          [7., 7.]],\n",
              "\n",
              "         [[7., 7.],\n",
              "          [7., 7.],\n",
              "          [7., 7.]],\n",
              "\n",
              "         [[7., 7.],\n",
              "          [7., 7.],\n",
              "          [7., 7.]]]]], dtype=float32)>"
            ]
          },
          "metadata": {},
          "execution_count": 48
        }
      ]
    },
    {
      "cell_type": "code",
      "source": [
        "tensor1=tf.constant([6,7])\n",
        "tensor2=tf.constant([9,8])\n",
        "result=tensor1*tensor2;\n",
        "print(result)"
      ],
      "metadata": {
        "id": "-TlQZfy4kDmT",
        "colab": {
          "base_uri": "https://localhost:8080/"
        },
        "outputId": "0f794b83-f9ce-4d92-c62a-06d797906510"
      },
      "execution_count": 49,
      "outputs": [
        {
          "output_type": "stream",
          "name": "stdout",
          "text": [
            "tf.Tensor([54 56], shape=(2,), dtype=int32)\n"
          ]
        }
      ]
    },
    {
      "cell_type": "markdown",
      "source": [
        "## creating tensors with `tf.variable()`"
      ],
      "metadata": {
        "id": "vcSZDU3zn5pj"
      }
    },
    {
      "cell_type": "code",
      "source": [
        "# tf.variable is the mutable counterpart of tf.constant..\n",
        "#  tf.Variable(\n",
        "#     initial_value,\n",
        "#     trainable=True,\n",
        "#     dtype=None,\n",
        "#     shape=None,\n",
        "#     name=None\n",
        "# )\n",
        "# Key parameters:\n",
        "\n",
        "# initial_value – The starting value (can be a number, list, NumPy array, or another tensor).\n",
        "\n",
        "# trainable (default=True) – If True, TensorFlow will update it during training (e.g., by gradient descent).\n",
        "\n",
        "# dtype – Data type (inferred if not given).\n",
        "\n",
        "# shape – Shape of the variable (inferred if not given).\n",
        "\n",
        "# name – Optional name.\n",
        "\n",
        "mat = tf.Variable(tf.ones((2, 3)) * 7, dtype=tf.float32)\n",
        "mat[1,2].assign(52)\n",
        "mat\n"
      ],
      "metadata": {
        "id": "LeDgYkkWoDu8",
        "colab": {
          "base_uri": "https://localhost:8080/"
        },
        "outputId": "a35e55d6-6141-4770-9588-f18919cb5236"
      },
      "execution_count": 50,
      "outputs": [
        {
          "output_type": "execute_result",
          "data": {
            "text/plain": [
              "<tf.Variable 'Variable:0' shape=(2, 3) dtype=float32, numpy=\n",
              "array([[ 7.,  7.,  7.],\n",
              "       [ 7.,  7., 52.]], dtype=float32)>"
            ]
          },
          "metadata": {},
          "execution_count": 50
        }
      ]
    },
    {
      "cell_type": "code",
      "source": [
        "import tensorflow as tf\n",
        "changeable_tensor=tf.Variable(trainable=True,dtype=tf.float32,initial_value=tf.ones((2,3))*7)\n",
        "changeable_tensor"
      ],
      "metadata": {
        "id": "iiIGk0-vtfC3",
        "colab": {
          "base_uri": "https://localhost:8080/"
        },
        "outputId": "f05a0a02-90bf-458a-b985-6b24d79d4bbf"
      },
      "execution_count": 51,
      "outputs": [
        {
          "output_type": "execute_result",
          "data": {
            "text/plain": [
              "<tf.Variable 'Variable:0' shape=(2, 3) dtype=float32, numpy=\n",
              "array([[7., 7., 7.],\n",
              "       [7., 7., 7.]], dtype=float32)>"
            ]
          },
          "metadata": {},
          "execution_count": 51
        }
      ]
    },
    {
      "cell_type": "code",
      "source": [
        "g = tf.random.Generator.from_seed(42)\n",
        "\n",
        "random_variable=g.truncated_normal(shape=(3,2),mean=5.0,stddev=1.0)\n",
        "trainable_variable=tf.Variable(random_variable,trainable=True)\n",
        "print(trainable_variable)"
      ],
      "metadata": {
        "id": "7oJmJbXHenRX",
        "colab": {
          "base_uri": "https://localhost:8080/"
        },
        "outputId": "999ed6c5-635a-46ba-9b99-f32b7d189f87"
      },
      "execution_count": 52,
      "outputs": [
        {
          "output_type": "stream",
          "name": "stdout",
          "text": [
            "<tf.Variable 'Variable:0' shape=(3, 2) dtype=float32, numpy=\n",
            "array([[4.2434196, 4.9314528],\n",
            "       [5.07595  , 3.7426157],\n",
            "       [5.7093353, 3.8071513]], dtype=float32)>\n"
          ]
        }
      ]
    },
    {
      "cell_type": "code",
      "source": [
        "## they are different ways you can create random tensors some of them are:->\n",
        "# using uniform distribution this will randomly generate numbers using a unifrm distribution or rectagular distribution the probability of selecting any number between a range [a,b] is fixed.\n",
        "random_tensor=tf.random.Generator.from_seed(42); # set seed for reproducibility.\n",
        "trainable_tensor=random_tensor.uniform(shape=(3,2),minval=0,maxval=100,dtype=tf.int32) # generate only int data type values for tensor;\n",
        "print(trainable_tensor);\n",
        "# using normal distributio or gaussian where probability is maximum around mean and decays exponentially in every dimensions that moves away from that mean value.\n",
        "trainable_tensor2=random_tensor.normal(shape=(3,2),mean=5.0,stddev=1.0)\n",
        "print(trainable_tensor2);\n",
        "# using trancated normal thats same as gaussian but outputs are truncated if theu are away from mean by +- 2*stddev.\n",
        "trainable_tensor3=random_tensor.truncated_normal(shape=(3,2),mean=5.0,stddev=1.0)\n",
        "print(trainable_tensor3);\n"
      ],
      "metadata": {
        "id": "xc4aIsGagKfa",
        "colab": {
          "base_uri": "https://localhost:8080/"
        },
        "outputId": "a0584c54-2838-4369-9ae5-8d8de841e16f"
      },
      "execution_count": 53,
      "outputs": [
        {
          "output_type": "stream",
          "name": "stdout",
          "text": [
            "tf.Tensor(\n",
            "[[ 3 97]\n",
            " [26 98]\n",
            " [26 81]], shape=(3, 2), dtype=int32)\n",
            "tf.Tensor(\n",
            "[[5.1752267 5.7110553]\n",
            " [5.5488243 5.14896  ]\n",
            " [4.45242   5.6163435]], shape=(3, 2), dtype=float32)\n",
            "tf.Tensor(\n",
            "[[6.286623  4.285244 ]\n",
            " [4.898045  5.3831787]\n",
            " [5.3264775 5.17025  ]], shape=(3, 2), dtype=float32)\n"
          ]
        }
      ]
    },
    {
      "cell_type": "markdown",
      "source": [
        "##shuffle order of elements in a tensor\n",
        "> It looks like if you want the same order for your shuffled tensor you should set the global seed not the operation level seed\n"
      ],
      "metadata": {
        "id": "xOTQH6PlmoBH"
      }
    },
    {
      "cell_type": "code",
      "source": [
        "## shuffle a tensor(valuable for when you want to shuffle your data so that the inherent order doesnt effect learning )\n",
        "# Shuffling the order of elements in a tensor is a valuable technique in machine learning for several reasons:\n",
        "\n",
        "# Preventing bias: In machine learning, the order of data can sometimes influence the learning process, leading to biased models. Shuffling helps to break any inherent order or patterns in the data, ensuring that the model doesn't learn from the order itself.\n",
        "# Improving generalization: By presenting data in a random order, shuffling helps the model to generalize better to unseen data. It prevents the model from memorizing the training data's order and encourages it to learn the underlying patterns.\n",
        "# Ensuring independent and identically distributed (IID) data: Many machine learning algorithms assume that the data is IID. Shuffling helps to approximate this assumption by making the data points more independent of each other's position in the dataset.\n",
        "# Better convergence: In some optimization algorithms used for training models, shuffling the data can lead to faster and more stable convergence.\n",
        "# Essentially, shuffling helps to make the training process more robust and leads to better-performing models.\n",
        "\n",
        "import tensorflow as tf\n",
        "not_shuffled=tf.constant([[10,7],\n",
        "                          [3,4],\n",
        "                          [2,5]])\n",
        "tf.random.set_seed(42); # global level seed\n",
        "shuffled=tf.random.shuffle(not_shuffled ,seed=42) # operation level seed\n",
        "print(shuffled)\n",
        "\n"
      ],
      "metadata": {
        "id": "xGrVn3iXmtPJ",
        "colab": {
          "base_uri": "https://localhost:8080/"
        },
        "outputId": "1bc88e1b-b1e5-4704-8fbe-4d274e089464"
      },
      "execution_count": 54,
      "outputs": [
        {
          "output_type": "stream",
          "name": "stdout",
          "text": [
            "tf.Tensor(\n",
            "[[10  7]\n",
            " [ 3  4]\n",
            " [ 2  5]], shape=(3, 2), dtype=int32)\n"
          ]
        }
      ]
    },
    {
      "cell_type": "markdown",
      "source": [
        " ## Turning numpy arrays into tensors\n",
        " > NumPy arrays and TensorFlow tensors are fundamental data structures. While they can look similar and you can convert between them (as shown in your notebook), there are some key differences:\n",
        "\n",
        " > GPU/TPU Acceleration: TensorFlow tensors can be seamlessly moved to and run on GPUs (Graphics Processing Units) or TPUs (Tensor Processing Units) for significant speedups in numerical computations, especially for large-scale deep learning tasks. NumPy operations primarily run on the CPU.\n",
        "\n",
        "\n",
        " > Automatic Differentiation: TensorFlow tensors are designed to work with TensorFlow's automatic differentiation system. This is crucial for training neural networks, where gradients need to be calculated efficiently. NumPy does not have built-in automatic differentiation capabilities.\n",
        "\n",
        "\n",
        " > Immutability vs. Mutability: By default, tf.constant tensors are immutable (their values cannot be changed after creation), whereas tf.Variable tensors are mutable. NumPy arrays are generally mutable.\n",
        "\n",
        "\n",
        " > Distributed Computing: TensorFlow is built to handle distributed computing, allowing you to run computations across multiple machines or devices. NumPy is primarily for single-machine processing.\n",
        "\n",
        "\n",
        " > Use Case: While NumPy is a general-purpose library for numerical computing and is excellent for tasks like data analysis and scientific computing, TensorFlow tensors are specifically designed and optimized for building and running deep learning models.\n",
        "\n",
        "\n",
        " > In summary, while you can perform similar operations on both, TensorFlow tensors are specifically engineered for the demands of deep learning, offering acceleration, automatic differentiation, and scalability that are not inherent in NumPy arrays.\n",
        "\n"
      ],
      "metadata": {
        "id": "3XcDkbGUsNkL"
      }
    },
    {
      "cell_type": "code",
      "source": [
        "import numpy as np\n",
        "import tensorflow as tf\n",
        "array=np.arange(1,25,dtype=np.int32)\n",
        "print(array);\n",
        "# try experimenting with shapes make sure dimproduct doesnt exceed the total number of\n",
        "# elements in the numpy array.\n",
        "A=tf.constant(array,shape=(2,3,2,2))\n",
        "print(\"Dimensions of tensor A : \" , A.ndim)\n",
        "print(A)\n"
      ],
      "metadata": {
        "id": "wAitb70ps1Xs",
        "colab": {
          "base_uri": "https://localhost:8080/"
        },
        "outputId": "8e9cde7e-c1c4-47bc-b662-20e3814babf9"
      },
      "execution_count": 55,
      "outputs": [
        {
          "output_type": "stream",
          "name": "stdout",
          "text": [
            "[ 1  2  3  4  5  6  7  8  9 10 11 12 13 14 15 16 17 18 19 20 21 22 23 24]\n",
            "Dimensions of tensor A :  4\n",
            "tf.Tensor(\n",
            "[[[[ 1  2]\n",
            "   [ 3  4]]\n",
            "\n",
            "  [[ 5  6]\n",
            "   [ 7  8]]\n",
            "\n",
            "  [[ 9 10]\n",
            "   [11 12]]]\n",
            "\n",
            "\n",
            " [[[13 14]\n",
            "   [15 16]]\n",
            "\n",
            "  [[17 18]\n",
            "   [19 20]]\n",
            "\n",
            "  [[21 22]\n",
            "   [23 24]]]], shape=(2, 3, 2, 2), dtype=int32)\n"
          ]
        }
      ]
    },
    {
      "cell_type": "markdown",
      "source": [
        "## Getting information from our Tensor"
      ],
      "metadata": {
        "id": "NzvnEfM0w9Nv"
      }
    },
    {
      "cell_type": "code",
      "source": [
        "# * Shape -> the length (number of elements) of each of the dimension of a tensor.\n",
        "# * Rank  -> the number of tensor dimensions.(tensor.ndim)\n",
        "# * Axis or Dimension -> A particular dimenion of a tensor\n",
        "# * Size -> The total number of items in the tensor\n",
        "import tensorflow as tf;\n",
        "def getInfo(tensor):\n",
        "  print(tensor)\n",
        "  print(\"size : \", tf.size(tensor).numpy())\n",
        "  print(\"Rank : \", tensor.ndim)\n",
        "  print(\"Shape : \", tensor.shape)\n",
        "  print(\"axis 0 : \", tensor[0]);\n",
        "  print(\"number of elements on 0th axis\",tensor.shape[0])\n",
        "  print(\"number of elements on last axis\",tensor.shape[-1])\n",
        "\n",
        "tensor=tf.constant([[1,2],\n",
        "                    [5,7],\n",
        "                    [5,9]]);\n",
        "getInfo(tensor)\n",
        "\n",
        "  # The shape (3, 2) tells us that the tensor has 2 dimensions.\n",
        "  # The first number in the shape, 3, represents the number of elements along the 0th axis (often thought of as rows).\n",
        "  # The second number in the shape, 2, represents the number of elements along the 1st axis (often thought of as columns).\n",
        "  # So, for your tensor tf.constant([[1,2],[5,7],[5,9]]):\n",
        "\n",
        "  # Along the 0th axis, you have three \"groups\" or \"rows\": [1, 2], [5, 7], and [5, 9]. That's why there are 3 elements on the 0th axis.\n",
        "  # Along the 1st axis, within each of those groups, you have two elements: 1 and 2, 5 and 7, 5 and 9. That's why there are 2 elements on the 1st axis.\n",
        "  # The output \"number of elements on 0th axis 3\" is correct based on the tensor's shape of (3, 2).\n",
        "\n",
        "  # Does that explanation help clarify how the shape relates to the number of elements on each axis?\n",
        "\n",
        "\n"
      ],
      "metadata": {
        "id": "DGWJ1RgCxG-3",
        "colab": {
          "base_uri": "https://localhost:8080/"
        },
        "outputId": "ebfd9489-572a-439c-bbf7-ad1e1a4b3652"
      },
      "execution_count": 56,
      "outputs": [
        {
          "output_type": "stream",
          "name": "stdout",
          "text": [
            "tf.Tensor(\n",
            "[[1 2]\n",
            " [5 7]\n",
            " [5 9]], shape=(3, 2), dtype=int32)\n",
            "size :  6\n",
            "Rank :  2\n",
            "Shape :  (3, 2)\n",
            "axis 0 :  tf.Tensor([1 2], shape=(2,), dtype=int32)\n",
            "number of elements on 0th axis 3\n",
            "number of elements on last axis 2\n"
          ]
        }
      ]
    },
    {
      "cell_type": "markdown",
      "metadata": {
        "id": "09ee3f97"
      },
      "source": [
        "## Indexing in Python Lists and TensorFlow Tensors\n",
        "\n",
        "Both Python lists and TensorFlow tensors support indexing, which allows you to access individual elements or subsets of elements. While the syntax can be similar, it's important to understand the nuances of each.\n",
        "\n",
        "**Python Lists:**\n",
        "\n",
        "*   Lists are ordered collections of items.\n",
        "*   Indexing is used to access elements based on their position (starting from 0).\n",
        "*   You can use single indices, slicing (`[start:stop:step]`), and negative indices.\n",
        "\n",
        "**TensorFlow Tensors:**\n",
        "\n",
        "*   Tensors are multi-dimensional arrays.\n",
        "*   Indexing is used to access elements or slices along each dimension.\n",
        "*   Similar to NumPy arrays, you can use single indices, slicing, and advanced indexing techniques.\n",
        "*   Key difference: When slicing tensors, the resulting tensor retains its rank unless you explicitly squeeze a dimension of size 1.\n",
        "\n",
        "Let's look at some examples."
      ]
    },
    {
      "cell_type": "code",
      "metadata": {
        "id": "074f941d",
        "colab": {
          "base_uri": "https://localhost:8080/"
        },
        "outputId": "3f2874c6-1590-496d-eecb-8348ba54c09f"
      },
      "source": [
        "import tensorflow as tf\n",
        "\n",
        "# Python List\n",
        "my_list = [10, 20, 30, 40, 50]\n",
        "\n",
        "# Accessing elements in a list\n",
        "print(\"Python List Indexing:\")\n",
        "print(\"First element:\", my_list[0])\n",
        "print(\"Third element:\", my_list[2])\n",
        "print(\"Last element:\", my_list[-1])\n",
        "print(\"Slice from index 1 to 3:\", my_list[1:4])\n",
        "print(\"Every other element:\", my_list[::2])\n",
        "\n",
        "print(\"-\" * 45)\n",
        "\n",
        "# TensorFlow Tensor\n",
        "my_tensor = tf.constant([[1, 2, 3],\n",
        "                         [4, 5, 6],\n",
        "                         [7, 8, 9]])\n",
        "\n",
        "# Accessing elements in a tensor\n",
        "print(\"TensorFlow Tensor Indexing:\")\n",
        "print(\"First row:\", my_tensor[0])\n",
        "print(\"Third row:\", my_tensor[2])\n",
        "print(\"Last row:\", my_tensor[-1])\n",
        "print(\"Element at row 1, column 2:\", my_tensor[1, 2])\n",
        "print(\"Slice of rows from 0 to 1:\", my_tensor[0:2, :])\n",
        "print(\"Slice of columns from 1 onwards:\", my_tensor[:, 1:])\n",
        "print(\"Element at row 0, column 0:\", my_tensor[0, 0].numpy()) # Use .numpy() to get the scalar value\n",
        "\n",
        "# Similarities:\n",
        "# - Both use square brackets [] for indexing.\n",
        "# - Both support slicing with start:stop:step.\n",
        "# - Both support negative indexing to access elements from the end.\n",
        "\n",
        "# Differences:\n",
        "# - Tensors support multi-dimensional indexing (e.g., [row, column]).\n",
        "# - Slicing a tensor generally retains the original number of dimensions (rank)."
      ],
      "execution_count": 57,
      "outputs": [
        {
          "output_type": "stream",
          "name": "stdout",
          "text": [
            "Python List Indexing:\n",
            "First element: 10\n",
            "Third element: 30\n",
            "Last element: 50\n",
            "Slice from index 1 to 3: [20, 30, 40]\n",
            "Every other element: [10, 30, 50]\n",
            "---------------------------------------------\n",
            "TensorFlow Tensor Indexing:\n",
            "First row: tf.Tensor([1 2 3], shape=(3,), dtype=int32)\n",
            "Third row: tf.Tensor([7 8 9], shape=(3,), dtype=int32)\n",
            "Last row: tf.Tensor([7 8 9], shape=(3,), dtype=int32)\n",
            "Element at row 1, column 2: tf.Tensor(6, shape=(), dtype=int32)\n",
            "Slice of rows from 0 to 1: tf.Tensor(\n",
            "[[1 2 3]\n",
            " [4 5 6]], shape=(2, 3), dtype=int32)\n",
            "Slice of columns from 1 onwards: tf.Tensor(\n",
            "[[2 3]\n",
            " [5 6]\n",
            " [8 9]], shape=(3, 2), dtype=int32)\n",
            "Element at row 0, column 0: 1\n"
          ]
        }
      ]
    },
    {
      "cell_type": "markdown",
      "source": [
        "## Indexing in tensors"
      ],
      "metadata": {
        "id": "aTT0Og4ZB-pA"
      }
    },
    {
      "cell_type": "code",
      "source": [
        "my_list=[2,2,5,7,2,10,4,2,4]\n",
        "print(my_list[:4]);"
      ],
      "metadata": {
        "id": "YMZy7ogQCDB7",
        "colab": {
          "base_uri": "https://localhost:8080/"
        },
        "outputId": "df533c83-df8c-40de-be22-de1b71fd8991"
      },
      "execution_count": 58,
      "outputs": [
        {
          "output_type": "stream",
          "name": "stdout",
          "text": [
            "[2, 2, 5, 7]\n"
          ]
        }
      ]
    },
    {
      "cell_type": "markdown",
      "source": [
        "## Expanding tensor and operations on tensors\n",
        "> `+`,`-`,`*`,`\\`\n",
        "\n",
        "\n",
        "\n"
      ],
      "metadata": {
        "id": "Ki319sdKCN9Z"
      }
    },
    {
      "cell_type": "code",
      "source": [
        "tensor_rank_4=tensor;\n",
        "tensor_rank_5=tf.expand_dims(tensor_rank_4,axis=-1)\n",
        "#tensor_rank_5=tensor[... , tf.newaxis]\n",
        "#print(tensor_rank_5.shape)\n",
        "print(tensor_rank_5)\n",
        "print(tf.multiply(tensor,10))\n",
        "print(tf.add(tensor,10000))\n"
      ],
      "metadata": {
        "id": "SIUSxG0ULBr3",
        "colab": {
          "base_uri": "https://localhost:8080/"
        },
        "outputId": "089d9dd0-3151-4768-91b4-28edb47c3887"
      },
      "execution_count": 59,
      "outputs": [
        {
          "output_type": "stream",
          "name": "stdout",
          "text": [
            "tf.Tensor(\n",
            "[[[1]\n",
            "  [2]]\n",
            "\n",
            " [[5]\n",
            "  [7]]\n",
            "\n",
            " [[5]\n",
            "  [9]]], shape=(3, 2, 1), dtype=int32)\n",
            "tf.Tensor(\n",
            "[[10 20]\n",
            " [50 70]\n",
            " [50 90]], shape=(3, 2), dtype=int32)\n",
            "tf.Tensor(\n",
            "[[10001 10002]\n",
            " [10005 10007]\n",
            " [10005 10009]], shape=(3, 2), dtype=int32)\n"
          ]
        }
      ]
    },
    {
      "cell_type": "markdown",
      "metadata": {
        "id": "1d158960"
      },
      "source": [
        "## Broadcasting in TensorFlow\n",
        "\n",
        "TensorFlow uses broadcasting to perform element-wise operations on tensors with different, but compatible, shapes. This allows operations like addition and division without requiring the tensors to have the exact same shape and size.\n",
        "\n",
        "When shapes are compatible, TensorFlow \"stretches\" or \"copies\" the smaller tensor along dimensions to match the shape of the larger tensor, without actually duplicating the data.\n",
        "\n",
        "**Broadcasting Rules (simplified):**\n",
        "\n",
        "1.  Compare shapes from right to left.\n",
        "2.  Dimensions are compatible if they are equal or one of them is 1.\n",
        "3.  If a dimension is missing in one tensor, it's padded with a dimension of size 1 on the left.\n",
        "4.  If dimensions are incompatible, an error occurs.\n",
        "\n",
        "**Examples:**\n",
        "\n",
        "*   Adding a scalar to a tensor:"
      ]
    },
    {
      "cell_type": "code",
      "metadata": {
        "id": "a6c38704",
        "colab": {
          "base_uri": "https://localhost:8080/"
        },
        "outputId": "b46ad2a7-20ed-4a7a-b359-4dbf204381b9"
      },
      "source": [
        "import tensorflow as tf\n",
        "tensor_A = tf.constant([[1], [2], [3]]) # Shape (3, 1)\n",
        "tensor_B = tf.constant([[10, 20, 30]]) # Shape (1, 3)\n",
        "result = tensor_A + tensor_B         # Result shape (3, 3)\n",
        "print(result)"
      ],
      "execution_count": 60,
      "outputs": [
        {
          "output_type": "stream",
          "name": "stdout",
          "text": [
            "tf.Tensor(\n",
            "[[11 21 31]\n",
            " [12 22 32]\n",
            " [13 23 33]], shape=(3, 3), dtype=int32)\n"
          ]
        }
      ]
    },
    {
      "cell_type": "code",
      "source": [
        "import numpy as np\n",
        "import tensorflow as tf\n",
        "tensor_C=tf.constant(np.arange(1,13,dtype=np.int32),shape=(2,1,2,3));\n",
        "tensor_D=tf.constant(np.arange(1,145,dtype=np.int32),shape=(3,2,4,3,2));\n",
        "\n",
        "tensor_result=tf.matmul(tensor_C , tensor_D)\n",
        "tensor_result"
      ],
      "metadata": {
        "id": "R280eC54YzMI",
        "colab": {
          "base_uri": "https://localhost:8080/"
        },
        "outputId": "5dca02a0-dc09-4085-b627-74af807bff25"
      },
      "execution_count": 61,
      "outputs": [
        {
          "output_type": "execute_result",
          "data": {
            "text/plain": [
              "<tf.Tensor: shape=(3, 2, 4, 2, 2), dtype=int32, numpy=\n",
              "array([[[[[  22,   28],\n",
              "          [  49,   64]],\n",
              "\n",
              "         [[  58,   64],\n",
              "          [ 139,  154]],\n",
              "\n",
              "         [[  94,  100],\n",
              "          [ 229,  244]],\n",
              "\n",
              "         [[ 130,  136],\n",
              "          [ 319,  334]]],\n",
              "\n",
              "\n",
              "        [[[ 652,  676],\n",
              "          [ 895,  928]],\n",
              "\n",
              "         [[ 796,  820],\n",
              "          [1093, 1126]],\n",
              "\n",
              "         [[ 940,  964],\n",
              "          [1291, 1324]],\n",
              "\n",
              "         [[1084, 1108],\n",
              "          [1489, 1522]]]],\n",
              "\n",
              "\n",
              "\n",
              "       [[[[ 310,  316],\n",
              "          [ 769,  784]],\n",
              "\n",
              "         [[ 346,  352],\n",
              "          [ 859,  874]],\n",
              "\n",
              "         [[ 382,  388],\n",
              "          [ 949,  964]],\n",
              "\n",
              "         [[ 418,  424],\n",
              "          [1039, 1054]]],\n",
              "\n",
              "\n",
              "        [[[1804, 1828],\n",
              "          [2479, 2512]],\n",
              "\n",
              "         [[1948, 1972],\n",
              "          [2677, 2710]],\n",
              "\n",
              "         [[2092, 2116],\n",
              "          [2875, 2908]],\n",
              "\n",
              "         [[2236, 2260],\n",
              "          [3073, 3106]]]],\n",
              "\n",
              "\n",
              "\n",
              "       [[[[ 598,  604],\n",
              "          [1489, 1504]],\n",
              "\n",
              "         [[ 634,  640],\n",
              "          [1579, 1594]],\n",
              "\n",
              "         [[ 670,  676],\n",
              "          [1669, 1684]],\n",
              "\n",
              "         [[ 706,  712],\n",
              "          [1759, 1774]]],\n",
              "\n",
              "\n",
              "        [[[2956, 2980],\n",
              "          [4063, 4096]],\n",
              "\n",
              "         [[3100, 3124],\n",
              "          [4261, 4294]],\n",
              "\n",
              "         [[3244, 3268],\n",
              "          [4459, 4492]],\n",
              "\n",
              "         [[3388, 3412],\n",
              "          [4657, 4690]]]]], dtype=int32)>"
            ]
          },
          "metadata": {},
          "execution_count": 61
        }
      ]
    },
    {
      "cell_type": "markdown",
      "metadata": {
        "id": "e744cf1a"
      },
      "source": [
        "## Broadcasting with `tf.matmul`\n",
        "\n",
        "When using `tf.matmul` to perform matrix multiplication on tensors, TensorFlow supports broadcasting not only on the last two dimensions (the matrices being multiplied) but also on the dimensions *before* the last two. These preceding dimensions are often referred to as \"batch\" dimensions.\n",
        "\n",
        "This means you can perform matrix multiplication between tensors of different ranks, provided their shapes are compatible according to broadcasting rules for these batch dimensions, and the inner dimensions of the last two dimensions match for the matrix multiplication itself.\n",
        "\n",
        "**How `tf.matmul` Broadcasting Works:**\n",
        "\n",
        "1.  **Matrix Dimensions:** The last two dimensions of the tensors are treated as the matrices. For the operation to be valid, the inner dimensions of these matrices must match (the number of columns in the first matrix must equal the number of rows in the second matrix).\n",
        "2.  **Batch Dimensions:** The dimensions before the last two are considered batch dimensions. TensorFlow applies standard broadcasting rules to these batch dimensions from left to right.\n",
        "3.  **Result Shape:** The shape of the resulting tensor will have the broadcasted batch dimensions followed by the outer dimensions of the matrix multiplication result.\n",
        "\n",
        "**Example:**\n",
        "\n",
        "Consider `tensor_C` with shape `(2, 2, 2, 3)` (Rank 4) and `tensor_D` with shape `(1, 2, 1, 3, 2)` (Rank 5).\n",
        "\n",
        "*   **Matrix Dimensions:** `(2, 3)` from `tensor_C` and `(3, 2)` from `tensor_D`. The inner dimensions (3 and 3) match. The result of the matrix multiplication on these dimensions will have shape `(2, 2)`.\n",
        "*   **Batch Dimensions:** `(2, 2)` from `tensor_C` and `(1, 2, 1)` from `tensor_D`. Applying broadcasting rules:\n",
        "    *   Dimension 0: `2` vs `1` -> Broadcasts to `2`\n",
        "    *   Dimension 1: `2` vs `2` -> Compatible, result is `2`\n",
        "    *   Dimension 2 (from tensor_D only): `1` -> Broadcasts to `1`\n",
        "    *   The broadcasted batch shape is effectively `(2, 2, 1)`. This, combined with the matrix multiplication result shape `(2, 2)`, gives a final shape of `(2, 2, 1, 2, 2)`. The output shape `(1, 2, 2, 2, 2)` seen previously is likely due to the initial dimension of 1 in `tensor_D` influencing the broadcasted batch shape.\n",
        "\n",
        "The final result shape combines the broadcasted batch dimensions and the matrix multiplication result shape.\n",
        "\n",
        "This broadcasting capability in `tf.matmul` is powerful as it allows for efficient operations across batches of matrices without explicit loops.\n",
        "👇\n",
        "\n",
        "🧠 Note on tf.matmul broadcasting rules:\n",
        "\n",
        "✅ Inner dimensions must match exactly:\n",
        "The last dimension of A and the second-to-last of B must be equal.\n",
        "\n",
        "If A is (..., m, n) and B is (..., n, p) → result is (..., m, p)\n",
        "\n",
        "✅ Leading (batch) dimensions can broadcast, but only if they are either equal or 1.\n",
        "\n",
        "Example: (1, m, n) × (b, n, p) → (b, m, p) ✅\n",
        "\n",
        "Example: (b, m, n) × (b, n, p) → (b, m, p) ✅\n",
        "\n",
        "❌ If any leading dimension is different and neither is 1, broadcasting fails.\n",
        "\n",
        "Example: (b, m, n) × (c, n, p) → ❌ fails if b ≠ c and neither is 1.\n",
        "\n",
        "✅ If B has no batch dimension (e.g., shape (n, p)), it is treated as shared across all batches.\n",
        "\n",
        "Example: (b, m, n) × (n, p) → (b, m, p)\n",
        "\n",
        "\n",
        "\n",
        "🧠 Note – Why tf.matmul Worked With (2,2,2,3) × (3,2,1,3,2)\n",
        "\n",
        "Even though the shapes of the two tensors look incompatible, tf.matmul did not break its rules. Here’s why the operation succeeds:\n",
        "\n",
        "Inner dimensions must match\n",
        "\n",
        "Last two dims of tensor_C: (2, 3)\n",
        "\n",
        "Last two dims of tensor_D: (3, 2)\n",
        "✅ 3 == 3 → inner matmul is valid → (2, 3) × (3, 2) → (2, 2)\n",
        "\n",
        "Batch dimensions can broadcast\n",
        "\n",
        "tensor_C batch dims: (2, 2)\n",
        "\n",
        "tensor_D batch dims: (3, 2, 1)\n",
        "\n",
        "Aligning from right:\n",
        "\n",
        "2 vs 1 → ✅ 1 broadcasts to 2\n",
        "\n",
        "2 vs 2 → ✅ equal\n",
        "\n",
        "(missing) vs 3 → ✅ missing dims treated as 1, then broadcast to 3\n",
        "\n",
        "✅ Resulting batch shape: (3, 2, 2)\n",
        "\n",
        "Final result shape\n",
        "Combine broadcasted batch dims (3, 2, 2) with the matmul result (2, 2)\n",
        "→ Final tensor shape: (3, 2, 2, 2, 2)\n",
        "\n",
        "💡 Key Takeaways:\n",
        "\n",
        "TensorFlow treats missing batch dimensions as 1, allowing broadcasting.\n",
        "\n",
        "A 1 in any batch dimension makes a tensor more flexible — it can “expand” to match larger shapes.\n",
        "\n",
        "The matmul rule ((..., m, n) × (..., n, p) → (..., m, p)) is always respected — this example just shows broadcasting at work."
      ]
    },
    {
      "cell_type": "markdown",
      "source": [],
      "metadata": {
        "id": "djmkj_8Wh2eY"
      }
    },
    {
      "cell_type": "code",
      "source": [
        "import tensorflow as tf\n",
        "import numpy as np\n",
        "tensor_A=tf.constant(np.arange(1,49,dtype=np.int32),shape=(2,2,2,3,2))\n",
        "#print(tensor_A)\n",
        "tensor_B = tf.transpose(tensor_A, perm=[0, 1, 2, 4, 3])\n",
        "# using perm you can specify exactly which axes you wanna reorder.\n",
        "\n",
        "print(tensor_B.shape)\n",
        "\n",
        "\n",
        "#print(tf.transpose(tensor_A))\n"
      ],
      "metadata": {
        "colab": {
          "base_uri": "https://localhost:8080/"
        },
        "id": "w_jKL5c4r1jS",
        "outputId": "11fc7c4c-9ede-4b3d-cb67-839eef6b3f14"
      },
      "execution_count": 62,
      "outputs": [
        {
          "output_type": "stream",
          "name": "stdout",
          "text": [
            "(2, 2, 2, 2, 3)\n"
          ]
        }
      ]
    },
    {
      "cell_type": "markdown",
      "metadata": {
        "id": "fa93dc02"
      },
      "source": [
        "## Tensor Transpose and Reshape in TensorFlow\n",
        "\n",
        "Understanding `tf.transpose()` and `tf.reshape()` is crucial for manipulating tensor dimensions effectively. While both change the arrangement of a tensor's elements, they do so in fundamentally different ways.\n",
        "\n",
        "### 1️⃣ `tf.transpose()` – Reordering Axes\n",
        "\n",
        "*   **Purpose:** Reorders the axes (dimensions) of a tensor according to a specified permutation.\n",
        "*   **Syntax:**"
      ]
    },
    {
      "cell_type": "code",
      "metadata": {
        "colab": {
          "base_uri": "https://localhost:8080/"
        },
        "id": "75d28e5d",
        "outputId": "1d2d9c67-8a7c-4753-ae99-f1a43f1dedb9"
      },
      "source": [
        "tf.transpose(tensor, perm=None)"
      ],
      "execution_count": 63,
      "outputs": [
        {
          "output_type": "execute_result",
          "data": {
            "text/plain": [
              "<tf.Tensor: shape=(2, 3), dtype=int32, numpy=\n",
              "array([[1, 5, 5],\n",
              "       [2, 7, 9]], dtype=int32)>"
            ]
          },
          "metadata": {},
          "execution_count": 63
        }
      ]
    },
    {
      "cell_type": "markdown",
      "metadata": {
        "id": "ba1bab7e"
      },
      "source": [
        "*   `tensor`: the input tensor\n",
        "*   `perm`: list specifying the desired order of axes\n",
        "*   **Default behavior:** If `perm=None`, it reverses all axes.\n",
        "\n",
        "### 2️⃣ Example – High-rank tensor\n",
        "\n",
        "Let's use a tensor with shape `(2, 2, 2, 3, 2)` to illustrate:"
      ]
    },
    {
      "cell_type": "code",
      "metadata": {
        "colab": {
          "base_uri": "https://localhost:8080/"
        },
        "id": "39167b12",
        "outputId": "2186334c-3803-4bcf-d540-4dffc75fcbcb"
      },
      "source": [
        "import numpy as np\n",
        "import tensorflow as tf\n",
        "\n",
        "tensor_A = tf.constant(np.arange(1,49).reshape(2,2,2,3,2))\n",
        "print(\"Original tensor shape:\", tensor_A.shape)"
      ],
      "execution_count": 64,
      "outputs": [
        {
          "output_type": "stream",
          "name": "stdout",
          "text": [
            "Original tensor shape: (2, 2, 2, 3, 2)\n"
          ]
        }
      ]
    },
    {
      "cell_type": "markdown",
      "metadata": {
        "id": "eeb29cd6"
      },
      "source": [
        "Axes positions:\n",
        "\n",
        "| Axis | Meaning                   |\n",
        "| :--- | :------------------------ |\n",
        "| 0    | batch dim 1               |\n",
        "| 1    | batch dim 2               |\n",
        "| 2    | batch dim 3               |\n",
        "| 3    | rows of inner 2D matrix   |\n",
        "| 4    | columns of inner 2D matrix|\n",
        "\n",
        "Applying `tf.transpose()` with default `perm=None`:"
      ]
    },
    {
      "cell_type": "code",
      "metadata": {
        "colab": {
          "base_uri": "https://localhost:8080/"
        },
        "id": "d23b2ab0",
        "outputId": "48d0fbfd-07d3-41fe-e992-c0477435310f"
      },
      "source": [
        "tensor_B = tf.transpose(tensor_A)\n",
        "print(\"Shape after default transpose:\", tensor_B.shape)\n",
        "# Default tf.transpose reversed all axes: (0,1,2,3,4) → (4,3,2,1,0)"
      ],
      "execution_count": 65,
      "outputs": [
        {
          "output_type": "stream",
          "name": "stdout",
          "text": [
            "Shape after default transpose: (2, 3, 2, 2, 2)\n"
          ]
        }
      ]
    },
    {
      "cell_type": "markdown",
      "metadata": {
        "id": "06c83699"
      },
      "source": [
        "This explains why the shape changed: the original axes `(0, 1, 2, 3, 4)` were reordered to `(4, 3, 2, 1, 0)`.\n",
        "\n",
        "### 3️⃣ Flipping only the last two dimensions\n",
        "\n",
        "Often, we want to transpose the inner 2D matrices without touching batch dimensions. Use the `perm` argument:"
      ]
    },
    {
      "cell_type": "code",
      "metadata": {
        "colab": {
          "base_uri": "https://localhost:8080/"
        },
        "id": "e39352f0",
        "outputId": "ae4a46a2-c29a-490b-812e-a0262f13c395"
      },
      "source": [
        "tensor_C = tf.transpose(tensor_A, perm=[0, 1, 2, 4, 3])\n",
        "print(\"Shape after transposing last two axes:\", tensor_C.shape)"
      ],
      "execution_count": 66,
      "outputs": [
        {
          "output_type": "stream",
          "name": "stdout",
          "text": [
            "Shape after transposing last two axes: (2, 2, 2, 2, 3)\n"
          ]
        }
      ]
    },
    {
      "cell_type": "markdown",
      "metadata": {
        "id": "cbdcf60c"
      },
      "source": [
        "Here, `perm=[0, 1, 2, 4, 3]` means:\n",
        "\n",
        "*   `0, 1, 2`: The first three batch dimensions remain in their original positions.\n",
        "*   `4, 3`: The last two dimensions (rows and columns of the inner matrix) are swapped.\n",
        "\n",
        "✅ Only the 2D matrices (originally 3×2) are flipped to 2×3.\n",
        "\n",
        "---\n",
        "\n",
        "### 4️⃣ `tf.reshape()` – Changing shape without changing data\n",
        "\n",
        "*   **Purpose:** Rearrange tensor into a new shape without altering the elements or their order in the flattened view.\n",
        "*   **Syntax:**"
      ]
    },
    {
      "cell_type": "markdown",
      "metadata": {
        "id": "5836dcb6"
      },
      "source": [
        "*   `tensor`: the input tensor\n",
        "*   `new_shape`: a list or tuple specifying the desired new shape. One dimension can be `-1`, which TensorFlow will calculate based on the total number of elements.\n",
        "*   **Key rules:**\n",
        "    *   The total number of elements must remain the same.\n",
        "    *   `product of original shape` = `product of new shape`\n",
        "\n",
        "*   Works independently of batch or matrix dimensions; it just repackages the existing elements into the new shape.\n",
        "\n",
        "### 5️⃣ When to use `transpose` vs `reshape`\n",
        "\n",
        "| Operation     | Purpose                         | Typical use                                     |\n",
        "| :------------ | :------------------------------ | :---------------------------------------------- |\n",
        "| `tf.transpose`| Reorder axes                    | Flip rows/columns of inner matrices, move batch dims |\n",
        "| `tf.reshape`  | Change tensor shape             | Flatten, merge, or split dimensions while keeping data order |\n",
        "\n",
        "### 6️⃣ Key Takeaways\n",
        "\n",
        "*   Default `tf.transpose()` reverses all axes → may be confusing for high-rank tensors.\n",
        "*   Use the `perm` argument with `tf.transpose()` for precise axis reordering.\n",
        "*   `tf.reshape()` changes the tensor's view but not the underlying data order; the total number of elements must match the new shape."
      ]
    },
    {
      "cell_type": "markdown",
      "metadata": {
        "id": "13a303b7"
      },
      "source": [
        "## Tensor Transpose and Reshape in TensorFlow\n",
        "\n",
        "Understanding `tf.transpose()` and `tf.reshape()` is crucial for manipulating tensor dimensions effectively. While both change the arrangement of a tensor's elements, they do so in fundamentally different ways.\n",
        "\n",
        "### 1️⃣ `tf.transpose()` – Reordering Axes\n",
        "\n",
        "*   **Purpose:** Reorders the axes (dimensions) of a tensor according to a specified permutation.\n",
        "*   **Syntax:**"
      ]
    },
    {
      "cell_type": "code",
      "metadata": {
        "id": "31f0181f",
        "colab": {
          "base_uri": "https://localhost:8080/"
        },
        "outputId": "da09baf3-1b70-486e-ed19-a89f0c904284"
      },
      "source": [
        "tensor_A = tf.constant(np.arange(1,49).reshape(2,2,2,3,2))\n",
        "tensor_A.shape  # Output: (2, 2, 2, 3, 2)"
      ],
      "execution_count": 67,
      "outputs": [
        {
          "output_type": "execute_result",
          "data": {
            "text/plain": [
              "TensorShape([2, 2, 2, 3, 2])"
            ]
          },
          "metadata": {},
          "execution_count": 67
        }
      ]
    },
    {
      "cell_type": "code",
      "metadata": {
        "id": "e12cd7ff",
        "colab": {
          "base_uri": "https://localhost:8080/"
        },
        "outputId": "1ca940b4-55d5-4c38-8169-82e82d801c00"
      },
      "source": [
        "tensor_B = tf.transpose(tensor_A)\n",
        "tensor_B.shape  # Output: (2, 3, 2, 2, 2)"
      ],
      "execution_count": 68,
      "outputs": [
        {
          "output_type": "execute_result",
          "data": {
            "text/plain": [
              "TensorShape([2, 3, 2, 2, 2])"
            ]
          },
          "metadata": {},
          "execution_count": 68
        }
      ]
    },
    {
      "cell_type": "code",
      "metadata": {
        "id": "9de7f4d8",
        "colab": {
          "base_uri": "https://localhost:8080/"
        },
        "outputId": "a5372a54-7c20-42f6-a750-c557fc8fecd2"
      },
      "source": [
        "tensor_C = tf.transpose(tensor_A, perm=[0, 1, 2, 4, 3])\n",
        "tensor_C.shape  # Output: (2, 2, 2, 2, 3)"
      ],
      "execution_count": 69,
      "outputs": [
        {
          "output_type": "execute_result",
          "data": {
            "text/plain": [
              "TensorShape([2, 2, 2, 2, 3])"
            ]
          },
          "metadata": {},
          "execution_count": 69
        }
      ]
    },
    {
      "cell_type": "markdown",
      "source": [
        "Changing Datatype of tensors\n"
      ],
      "metadata": {
        "id": "YsxIQApSh4fh"
      }
    },
    {
      "cell_type": "code",
      "source": [
        "import tensorflow as tf;\n",
        "tensor_A=tf.constant([[1,2,3],\n",
        "                      [4,5,6]],shape=(2,3),dtype=tf.int32);\n",
        "tensor_B=tf.cast(tensor_A,dtype=tf.int16);\n",
        "tensor_B\n",
        "#cast float32->float16 or float16->int32 or int32->int16(16 bit) and so on"
      ],
      "metadata": {
        "id": "bPmDMkLvh8gc",
        "outputId": "9534290d-92cc-472b-f6a4-180132dcd6fe",
        "colab": {
          "base_uri": "https://localhost:8080/"
        }
      },
      "execution_count": 70,
      "outputs": [
        {
          "output_type": "execute_result",
          "data": {
            "text/plain": [
              "<tf.Tensor: shape=(2, 3), dtype=int16, numpy=\n",
              "array([[1, 2, 3],\n",
              "       [4, 5, 6]], dtype=int16)>"
            ]
          },
          "metadata": {},
          "execution_count": 70
        }
      ]
    },
    {
      "cell_type": "markdown",
      "source": [
        "## Aggregating Tensors\n",
        "` What “aggregating tensors” means `\n",
        "\n",
        "> Aggregating a tensor means reducing multiple elements into one (or fewer) elements, usually by applying a mathematical operation across one or more axes."
      ],
      "metadata": {
        "id": "eZ7-Dggvjh7G"
      }
    },
    {
      "cell_type": "code",
      "source": [
        "import tensorflow as tf;\n",
        "import tensorflow_probability as tfp;\n",
        "tensor = tf.constant([[1, 2, 3],\n",
        "                      [4, 5, 6]])\n",
        "\n",
        "# Sum of all elements\n",
        "sumA=tf.reduce_sum(tensor)  # 21\n",
        "\n",
        "# Mean of all elements\n",
        "sumB=tf.reduce_mean(tensor)  # 3.5\n",
        "\n",
        "# Sum along rows (axis=1)\n",
        "sumC=tf.reduce_sum(tensor, axis=1)  # [6, 15]\n",
        "\n",
        "# Sum along columns (axis=0)\n",
        "sumD=tf.reduce_sum(tensor, axis=0)  # [5, 7, 9]\n",
        "max=tf.reduce_max(tensor)\n",
        "min=tf.reduce_min(tensor)\n",
        "variance=tfp.stats.variance(tensor)\n",
        "mean=tf.cast(tf.reduce_mean(tensor),dtype=tf.float32)\n",
        "mean_axis_1=tf.reduce_mean(tensor,axis=0)\n",
        "\n",
        "stddev=tf.math.reduce_std(tf.cast(tensor,dtype=tf.float32),axis=1)\n",
        "sumA,sumB,sumC,sumD,max , min , variance,stddev,mean,mean_axis_1\n",
        "\n"
      ],
      "metadata": {
        "id": "XvCMcj0nj5zy",
        "outputId": "9bc24934-0550-4866-9418-d89ac41c77af",
        "colab": {
          "base_uri": "https://localhost:8080/"
        }
      },
      "execution_count": 71,
      "outputs": [
        {
          "output_type": "execute_result",
          "data": {
            "text/plain": [
              "(<tf.Tensor: shape=(), dtype=int32, numpy=21>,\n",
              " <tf.Tensor: shape=(), dtype=int32, numpy=3>,\n",
              " <tf.Tensor: shape=(2,), dtype=int32, numpy=array([ 6, 15], dtype=int32)>,\n",
              " <tf.Tensor: shape=(3,), dtype=int32, numpy=array([5, 7, 9], dtype=int32)>,\n",
              " <tf.Tensor: shape=(), dtype=int32, numpy=6>,\n",
              " <tf.Tensor: shape=(), dtype=int32, numpy=1>,\n",
              " <tf.Tensor: shape=(3,), dtype=int32, numpy=array([2, 2, 2], dtype=int32)>,\n",
              " <tf.Tensor: shape=(2,), dtype=float32, numpy=array([0.8164966, 0.8164966], dtype=float32)>,\n",
              " <tf.Tensor: shape=(), dtype=float32, numpy=3.0>,\n",
              " <tf.Tensor: shape=(3,), dtype=int32, numpy=array([2, 3, 4], dtype=int32)>)"
            ]
          },
          "metadata": {},
          "execution_count": 71
        }
      ]
    },
    {
      "cell_type": "markdown",
      "source": [
        " ## **Positional Maximum & Minimum — The Core Idea**\n",
        "\n",
        "> A maximum/minimum tells you what the largest or smallest value is.\n",
        "\n",
        "> A positional maximum/minimum tells you where it is — i.e. its index or position in the tensor.\n",
        "\n",
        "> In TensorFlow, you do this with:\n",
        "\n",
        " `tf.argmax() → position of maximum value`\n",
        "\n",
        " `tf.argmin() → position of minimum value`"
      ],
      "metadata": {
        "id": "s8Xec1YADtkq"
      }
    },
    {
      "cell_type": "code",
      "source": [
        "# ================================================\n",
        "# Positional Maximum & Minimum in TensorFlow\n",
        "# ================================================\n",
        "\n",
        "import tensorflow as tf\n",
        "\n",
        "# -------------------------------\n",
        "# 1. Simple 1D tensor example\n",
        "# -------------------------------\n",
        "tensor_1d = tf.constant([3, 7, 2, 9, 5])\n",
        "max_pos_1d = tf.argmax(tensor_1d)  # position of maximum\n",
        "min_pos_1d = tf.argmin(tensor_1d)  # position of minimum\n",
        "\n",
        "print(\"1D Tensor:\", tensor_1d.numpy())\n",
        "print(\"Max position:\", max_pos_1d.numpy(), \"Value:\", tensor_1d[max_pos_1d].numpy())\n",
        "print(\"Min position:\", min_pos_1d.numpy(), \"Value:\", tensor_1d[min_pos_1d].numpy())\n",
        "\n",
        "# -------------------------------\n",
        "# 2. 2D tensor example\n",
        "# -------------------------------\n",
        "tensor_2d = tf.constant([[1, 8, 3],\n",
        "                         [7, 2, 5]])\n",
        "# By default, axis=0\n",
        "max_pos_2d = tf.argmax(tensor_2d, axis=0)  # max along rows for each column\n",
        "min_pos_2d = tf.argmin(tensor_2d, axis=0)  # min along rows for each column\n",
        "\n",
        "print(\"\\n2D Tensor:\\n\", tensor_2d.numpy())\n",
        "print(\"Max positions along axis 0:\", max_pos_2d.numpy())\n",
        "print(\"Min positions along axis 0:\", min_pos_2d.numpy())\n",
        "\n",
        "# You can also find max along axis=1 (columns)\n",
        "max_pos_2d_axis1 = tf.argmax(tensor_2d, axis=1)\n",
        "min_pos_2d_axis1 = tf.argmin(tensor_2d, axis=1)\n",
        "\n",
        "print(\"Max positions along axis 1:\", max_pos_2d_axis1.numpy())\n",
        "print(\"Min positions along axis 1:\", min_pos_2d_axis1.numpy())\n",
        "\n",
        "# -------------------------------\n",
        "# 3. Higher-dimensional tensors\n",
        "# -------------------------------\n",
        "# Example 4D tensor\n",
        "g = tf.random.Generator.from_seed(42)\n",
        "tensor_4d = g.truncated_normal(shape=(5, 2, 4, 9), dtype=tf.float32, mean=5.0, stddev=1.0)\n",
        "\n",
        "# Positional maximum along axis 0 (first dimension)\n",
        "max_pos_4d = tf.argmax(tensor_4d, axis=0)\n",
        "min_pos_4d = tf.argmin(tensor_4d, axis=0)\n",
        "\n",
        "print(\"\\n4D Tensor shape:\", tensor_4d.shape)\n",
        "print(\"Positional max shape (axis 0 reduced):\", max_pos_4d.shape)\n",
        "print(\"Positional min shape (axis 0 reduced):\", min_pos_4d.shape)\n",
        "\n",
        "# -------------------------------\n",
        "# 4. Understanding what tf.argmax returns\n",
        "# -------------------------------\n",
        "# If tensor has shape (5, 2, 5, 6, 6, 8, 8)\n",
        "# and you call tf.argmax(tensor) without specifying axis, axis=0 is default\n",
        "# result shape will be (2, 5, 6, 6, 8, 8)\n",
        "# Each element is an integer from 0 to 4 (position along axis 0)\n",
        "# It indicates the index where the maximum value occurred along axis 0\n",
        "#\n",
        "# Conceptually:\n",
        "# - Original tensor: 5 stacked 6D \"blocks\"\n",
        "# - tf.argmax -> returns a 6D tensor with the same shape as remaining axes\n",
        "# - Each element tells which of the 5 blocks had the max at that position\n",
        "\n",
        "# Example with smaller tensor for clarity\n",
        "tensor_small = tf.constant([\n",
        "    [[1,2],[3,4]],  # axis 0, index 0\n",
        "    [[5,0],[1,6]],  # axis 0, index 1\n",
        "    [[2,1],[4,0]]   # axis 0, index 2\n",
        "])  # shape (3, 2, 2)\n",
        "\n",
        "max_pos_small = tf.argmax(tensor_small, axis=0)  # reduces axis 0\n",
        "print(\"\\nSmall tensor shape:\", tensor_small.shape)\n",
        "print(\"Max positions along axis 0:\\n\", max_pos_small.numpy())\n",
        "# max_pos_small shape is (2,2)\n",
        "# Each element indicates which slice along axis 0 had the maximum\n",
        "\n",
        "# -------------------------------\n",
        "# 5. Key points to remember\n",
        "# -------------------------------\n",
        "# 1. tf.argmax / tf.argmin returns **positions**, not the values themselves\n",
        "# 2. By default, axis=0; you can specify any axis\n",
        "# 3. Output shape is **original shape without the reduced axis**\n",
        "# 4. For n-dimensional tensors, visualize as:\n",
        "#    - \"axis 0\" = stacked blocks\n",
        "#    - max/min along axis = which block has max/min at each coordinate\n",
        "# 5. For multi-dimensional tensors, each element of result tensor is an **integer index**\n",
        "#    pointing to where the max/min occurred along the reduced axis\n",
        "\n"
      ],
      "metadata": {
        "colab": {
          "base_uri": "https://localhost:8080/"
        },
        "collapsed": true,
        "id": "-OVU72FQGQNI",
        "outputId": "882b19a3-b343-4a56-94f0-f63260737d0b"
      },
      "execution_count": 72,
      "outputs": [
        {
          "output_type": "stream",
          "name": "stdout",
          "text": [
            "1D Tensor: [3 7 2 9 5]\n",
            "Max position: 3 Value: 9\n",
            "Min position: 2 Value: 2\n",
            "\n",
            "2D Tensor:\n",
            " [[1 8 3]\n",
            " [7 2 5]]\n",
            "Max positions along axis 0: [1 0 1]\n",
            "Min positions along axis 0: [0 1 0]\n",
            "Max positions along axis 1: [1 0]\n",
            "Min positions along axis 1: [0 1]\n",
            "\n",
            "4D Tensor shape: (5, 2, 4, 9)\n",
            "Positional max shape (axis 0 reduced): (2, 4, 9)\n",
            "Positional min shape (axis 0 reduced): (2, 4, 9)\n",
            "\n",
            "Small tensor shape: (3, 2, 2)\n",
            "Max positions along axis 0:\n",
            " [[1 0]\n",
            " [2 1]]\n"
          ]
        }
      ]
    }
  ]
}